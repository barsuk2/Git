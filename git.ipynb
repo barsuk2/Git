{
 "cells": [
  {
   "cell_type": "markdown",
   "source": [
    "## Базовае операции GIT в терминале BUSH"
   ],
   "metadata": {
    "collapsed": false
   }
  },
  {
   "cell_type": "markdown",
   "source": [
    "### Базовае настройки Git\n",
    "#### git config --global.user.name \"[name]\"  - указывается логин ,который будет записывать за каждым измением\n",
    "#### git config --global.user.mail \"[email-address]\" - указание E-mail для связи с хозяином изменений\n",
    "#### git config --global.core.editor \"[program]\" - указание текстового редактора по умолчанию\n",
    "### Пример\n",
    ">C:\\Users\\egor\\GeekBrains\\data_analitics>git config --global user.name\n",
    "mikhailov_egor\n",
    ">C:\\Users\\egor\\GeekBrains\\data_analitics>git config --global user.name \"mikhailov_egor\"\n",
    "\n",
    ">C:\\Users\\egor\\GeekBrains\\data_analitics>git config --global user.email\n",
    "\n",
    ">info@geekbrains.com\n",
    ">C:\\Users\\egor\\GeekBrains\\data_analitics>git config --global user.email \"ickzn@ya.ru\"\n",
    ">C:\\Users\\egor\\GeekBrains\\data_analitics>git config --list -все настройки"
   ],
   "metadata": {
    "collapsed": false
   }
  },
  {
   "cell_type": "markdown",
   "source": [
    "### Создание нового репозитория\n",
    "На сайте github.com создаем новый репозитрий. После этого выходит инстукция\n",
    "echo \"# data_analitics\" >> README.md\n",
    "git init\n",
    "git add README.md\n",
    "git commit -m \"first commit\"\n",
    "git remote add origin git@github.com:barsuk2/data_analitics.git\n",
    "git push -u origin master\n",
    ">git@github.com:barsuk2/data_analitics.git\n",
    "\n",
    "### Создание нового репозитория из локального\n",
    "Создаем в github репозиторий second-site и и выполняем команды\n",
    "git init\n",
    "git add .\n",
    "git commit -m \"Initial commit\"\n",
    "git remote add origin git@github.com:barsuk2/algorithms.git\n",
    "git push -u origin master"
   ],
   "metadata": {
    "collapsed": false,
    "pycharm": {
     "name": "#%% md\n"
    }
   }
  },
  {
   "cell_type": "markdown",
   "source": [
    "### Клонирование репозитория\n",
    "git clone it@github.com:barsuk2/data_analitics.git project - указание папки на лок компьютере"
   ],
   "metadata": {
    "collapsed": false,
    "pycharm": {
     "name": "#%% md\n"
    }
   }
  },
  {
   "cell_type": "markdown",
   "source": [
    "### управление историей (коммитами)\n",
    "##### Отображает измение с коммитами\n",
    ">git log\n",
    ">git log --oneline # вывод в упращенном виде\n",
    "\n",
    "##### Отображает все измениея в репозитории\n",
    ">git reflog\n",
    "\n",
    "##### Восстановить истории коммитов до указанного\n",
    ">git reset b84aea5\n",
    "\n",
    "##### Удаляет изменения внесенные коммитом в  репозиторий. Создает новый коммит\n",
    ">git revert b84aea5\n",
    "\n",
    "##### Восстанавливает файл до предыдущего коммита\n",
    ">git revert b84aea5\n",
    "\n",
    "\n",
    "\n",
    "#### Работа с ветками\n",
    "##### Посмотреть список веток\n",
    ">git branch \n",
    "\n",
    "##### создать ветку\n",
    ">git branch dev\n",
    "\n",
    "##### Создание новой ветки от мастер\n",
    ">git branch dev-master master\n",
    "\n",
    "##### Удаление ненужных веток\n",
    ">git branch -d dev-master dev"
   ],
   "metadata": {
    "collapsed": false,
    "pycharm": {
     "name": "#%% md\n"
    }
   }
  }
 ],
 "metadata": {
  "kernelspec": {
   "display_name": "Python 3",
   "language": "python",
   "name": "python3"
  },
  "language_info": {
   "codemirror_mode": {
    "name": "ipython",
    "version": 2
   },
   "file_extension": ".py",
   "mimetype": "text/x-python",
   "name": "python",
   "nbconvert_exporter": "python",
   "pygments_lexer": "ipython2",
   "version": "2.7.6"
  }
 },
 "nbformat": 4,
 "nbformat_minor": 0
}