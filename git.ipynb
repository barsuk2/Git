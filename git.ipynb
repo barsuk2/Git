{
 "cells": [
  {
   "cell_type": "markdown",
   "source": [
    "## Базовае операции GIT в терминале BUSH"
   ],
   "metadata": {
    "collapsed": false
   }
  },
  {
   "cell_type": "markdown",
   "source": [
    "### Базовае настройки Git\n",
    "#### git config --global.user.name \"[name]\"  - указывается логин ,который будет записывать за каждым измением\n",
    "#### git config --global.user.mail \"[email-address]\" - указание E-mail для связи с хозяином изменений\n",
    "#### git config --global.core.editor \"[program]\" - указание текстового редактора по умолчанию\n",
    "### Пример\n",
    ">C:\\Users\\egor\\GeekBrains\\data_analitics>git config --global user.name\n",
    "mikhailov_egor\n",
    ">C:\\Users\\egor\\GeekBrains\\data_analitics>git config --global user.name \"mikhailov_egor\"\n",
    "\n",
    ">C:\\Users\\egor\\GeekBrains\\data_analitics>git config --global user.email\n",
    "\n",
    ">info@geekbrains.com\n",
    ">C:\\Users\\egor\\GeekBrains\\data_analitics>git config --global user.email \"ickzn@ya.ru\"\n",
    ">C:\\Users\\egor\\GeekBrains\\data_analitics>git config --list -все настройки"
   ],
   "metadata": {
    "collapsed": false
   }
  },
  {
   "cell_type": "markdown",
   "source": [
    "### Создание нового репозитория\n",
    "На сайте github.com создаем новый репозитрий. После этого выходит инстукция\n",
    "echo \"# data_analitics\" >> README.md\n",
    "git init\n",
    "git add README.md\n",
    "git commit -m \"first commit\"\n",
    "git remote add origin git@github.com:barsuk2/data_analitics.git\n",
    "git push -u origin master\n",
    ">git@github.com:barsuk2/data_analitics.git\n",
    "\n",
    "### Создание нового репозитория из локального\n",
    "Создаем в github репозиторий second-site и и выполняем команды\n",
    "git init\n",
    "git add .\n",
    "git commit -m \"Initial commit\"\n",
    "git remote add origin git@github.com:barsuk2/algorithms.git\n",
    "git push -u origin master"
   ],
   "metadata": {
    "collapsed": false
   }
  },
  {
   "cell_type": "markdown",
   "source": [
    "### Клонирование репозитория\n",
    "git clone it@github.com:barsuk2/data_analitics.git project - указание папки на лок компьютере"
   ],
   "metadata": {
    "collapsed": false
   }
  },
  {
   "cell_type": "markdown",
   "source": [
    "### управление историей (коммитами)\n",
    "##### Отображает измение с коммитами\n",
    ">git log\n",
    ">git log --oneline # вывод в упращенном виде\n",
    "\n",
    "##### Отображает все измениея в репозитории\n",
    ">git reflog\n",
    "\n",
    "##### Восстановить истории коммитов до указанного\n",
    ">git reset b84aea5\n",
    "\n",
    "##### Удаляет изменения внесенные коммитом в  репозиторий. Создает новый коммит\n",
    ">git revert b84aea5\n",
    "\n",
    "##### Восстанавливает файл до предыдущего коммита\n",
    ">git revert b84aea5\n"
   ],
   "metadata": {
    "collapsed": false
   }
  },
  {
   "cell_type": "markdown",
   "source": [
    "#### Работа с ветками\n",
    "##### Посмотреть список веток\n",
    ">git branch\n",
    "\n",
    "##### создать ветку\n",
    ">git branch dev\n",
    "##### создать ветку и перейти на нее\n",
    ">git checkout -b feature\n",
    "\n",
    "##### Создание новой ветки от мастер\n",
    ">git branch dev-master master\n",
    "\n",
    "##### Удаление ненужных веток\n",
    ">git branch -d dev-master dev\n",
    "##### Удаление ненужных веток на удаленном репо\n",
    ">git push --delete origin dev dev-master\n",
    ">\n",
    "##### Rebase измение места старта ветки\n",
    "[no_master_branch]>git rebase master"
   ],
   "metadata": {
    "collapsed": false
   }
  },
  {
   "cell_type": "markdown",
   "source": [
    "#### Версионирование\n",
    "##### Установим последнему коммиту тег 1.0.0\n",
    ">git tag 1.0.0\n",
    "##### Посмотрим список тегов\n",
    ">git tag --list\n",
    "\n",
    "##### Загрузить теги на remote repository\n",
    ">git push --tags\n",
    "##### Удалить тег (для переноса на новое место)\n",
    "##### Удалить тег в remove repo(для переноса на новое место)\n",
    ">git tag -d 1.0.1\n",
    ">git push --delete origin 1.0."
   ],
   "metadata": {
    "collapsed": false
   }
  },
  {
   "cell_type": "markdown",
   "source": [
    "### Основные проблемы при работе с Git\n",
    "##### Переключение веток при несохраненных данных\n",
    "### Git STASH локальное пространство записывает все текущие измения\n",
    "#### Перенесем несохраненные изменение в stash\n",
    ">git stash\n",
    "#### Просмотр пространства stash\n",
    ">git stash list\n",
    "#### После возврата на свою ветку вызываем из stash измения\n",
    ">git stash pop stash@{1}\n",
    "#### Дальше продолжаем вносить измениея или коммитим\n",
    ">git stash push <file>\n",
    "#### Можно добавить еще файлы в существующий stash"
   ],
   "metadata": {
    "collapsed": false
   }
  },
  {
   "cell_type": "markdown",
   "source": [
    "\n"
   ],
   "metadata": {
    "collapsed": false
   }
  },
  {
   "cell_type": "markdown",
   "source": [
    "### Основные проблемы при работе с Git\n",
    "##### Переключение веток при несохраненных данных\n",
    "### Git STASH локальное пространство записывает все текущие измения\n",
    ">"
   ],
   "metadata": {
    "collapsed": false
   }
  },
  {
   "cell_type": "markdown",
   "source": [
    "#### Версионирование\n",
    "##### Установим последнему коммиту тег 1.0.0\n",
    ">git tag 1.0.0\n",
    "##### Посмотрим список тегов\n",
    ">git tag --list\n",
    "\n",
    "##### Загрузить теги на remote repository\n",
    ">git push --tags\n",
    "##### Удалить тег (для переноса на новое место)\n",
    "##### Удалить тег в remove repo(для переноса на новое место)\n",
    ">git tag -d 1.0.1\n",
    ">git push --delete origin 1.0."
   ],
   "metadata": {
    "collapsed": false
   }
  },
  {
   "cell_type": "markdown",
   "source": [
    "### Основные проблемы при работе с Git\n",
    "##### Переключение веток при несохраненных данных\n",
    "### Git STASH локальное пространство записывает все текущие измения\n",
    ">"
   ],
   "metadata": {
    "collapsed": false
   }
  }
 ],
 "metadata": {
  "kernelspec": {
   "display_name": "Python 3",
   "language": "python",
   "name": "python3"
  },
  "language_info": {
   "codemirror_mode": {
    "name": "ipython",
    "version": 2
   },
   "file_extension": ".py",
   "mimetype": "text/x-python",
   "name": "python",
   "nbconvert_exporter": "python",
   "pygments_lexer": "ipython2",
   "version": "2.7.6"
  }
 },
 "nbformat": 4,
 "nbformat_minor": 0
}